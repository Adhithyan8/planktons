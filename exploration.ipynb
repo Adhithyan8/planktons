{
 "cells": [
  {
   "cell_type": "code",
   "execution_count": 10,
   "metadata": {},
   "outputs": [],
   "source": [
    "import pandas as pd\n",
    "import plotly.express as px"
   ]
  },
  {
   "cell_type": "code",
   "execution_count": 11,
   "metadata": {},
   "outputs": [],
   "source": [
    "# load dataframe from csv\n",
    "df = pd.read_csv(\"image_statistics.csv\")"
   ]
  },
  {
   "cell_type": "code",
   "execution_count": 12,
   "metadata": {},
   "outputs": [
    {
     "data": {
      "text/html": [
       "<div>\n",
       "<style scoped>\n",
       "    .dataframe tbody tr th:only-of-type {\n",
       "        vertical-align: middle;\n",
       "    }\n",
       "\n",
       "    .dataframe tbody tr th {\n",
       "        vertical-align: top;\n",
       "    }\n",
       "\n",
       "    .dataframe thead th {\n",
       "        text-align: right;\n",
       "    }\n",
       "</style>\n",
       "<table border=\"1\" class=\"dataframe\">\n",
       "  <thead>\n",
       "    <tr style=\"text-align: right;\">\n",
       "      <th></th>\n",
       "      <th>label</th>\n",
       "      <th>shape</th>\n",
       "      <th>area</th>\n",
       "      <th>aspect_ratio</th>\n",
       "      <th>mean</th>\n",
       "      <th>std</th>\n",
       "    </tr>\n",
       "  </thead>\n",
       "  <tbody>\n",
       "    <tr>\n",
       "      <th>0</th>\n",
       "      <td>0</td>\n",
       "      <td>(328, 563)</td>\n",
       "      <td>184664</td>\n",
       "      <td>0.582593</td>\n",
       "      <td>174.758004</td>\n",
       "      <td>35.649707</td>\n",
       "    </tr>\n",
       "    <tr>\n",
       "      <th>1</th>\n",
       "      <td>0</td>\n",
       "      <td>(203, 571)</td>\n",
       "      <td>115913</td>\n",
       "      <td>0.355517</td>\n",
       "      <td>196.914194</td>\n",
       "      <td>18.909234</td>\n",
       "    </tr>\n",
       "    <tr>\n",
       "      <th>2</th>\n",
       "      <td>0</td>\n",
       "      <td>(145, 205)</td>\n",
       "      <td>29725</td>\n",
       "      <td>0.707317</td>\n",
       "      <td>196.102473</td>\n",
       "      <td>19.613935</td>\n",
       "    </tr>\n",
       "    <tr>\n",
       "      <th>3</th>\n",
       "      <td>0</td>\n",
       "      <td>(211, 647)</td>\n",
       "      <td>136517</td>\n",
       "      <td>0.326121</td>\n",
       "      <td>191.284595</td>\n",
       "      <td>17.754088</td>\n",
       "    </tr>\n",
       "    <tr>\n",
       "      <th>4</th>\n",
       "      <td>0</td>\n",
       "      <td>(228, 513)</td>\n",
       "      <td>116964</td>\n",
       "      <td>0.444444</td>\n",
       "      <td>184.297741</td>\n",
       "      <td>23.214009</td>\n",
       "    </tr>\n",
       "  </tbody>\n",
       "</table>\n",
       "</div>"
      ],
      "text/plain": [
       "   label       shape    area  aspect_ratio        mean        std\n",
       "0      0  (328, 563)  184664      0.582593  174.758004  35.649707\n",
       "1      0  (203, 571)  115913      0.355517  196.914194  18.909234\n",
       "2      0  (145, 205)   29725      0.707317  196.102473  19.613935\n",
       "3      0  (211, 647)  136517      0.326121  191.284595  17.754088\n",
       "4      0  (228, 513)  116964      0.444444  184.297741  23.214009"
      ]
     },
     "execution_count": 12,
     "metadata": {},
     "output_type": "execute_result"
    }
   ],
   "source": [
    "df.head()"
   ]
  },
  {
   "cell_type": "code",
   "execution_count": null,
   "metadata": {},
   "outputs": [],
   "source": []
  }
 ],
 "metadata": {
  "kernelspec": {
   "display_name": "base",
   "language": "python",
   "name": "python3"
  },
  "language_info": {
   "codemirror_mode": {
    "name": "ipython",
    "version": 3
   },
   "file_extension": ".py",
   "mimetype": "text/x-python",
   "name": "python",
   "nbconvert_exporter": "python",
   "pygments_lexer": "ipython3",
   "version": "3.10.9"
  }
 },
 "nbformat": 4,
 "nbformat_minor": 2
}
